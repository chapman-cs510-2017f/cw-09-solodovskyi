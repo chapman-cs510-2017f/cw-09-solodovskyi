{
 "cells": [
  {
   "cell_type": "markdown",
   "metadata": {
    "collapsed": false
   },
   "source": [
    "## Problem 6\n",
    "\n",
    "The algorithm used in the C function int factorial(int n), the first step is to input an argument n, then follow the steps below: \n",
    "  1. set n equal to a variable fac;\n",
    "  2. check whether n is greater than 0 or not; if n is greater than 0, go to the next step;\n",
    "  3. n=n-1;\n",
    "  4. set fac=fac*n;\n",
    "  5. keep looping step 3 and step 4 until n=0, and then exit the loop;\n",
    "  6. return the value of variable fac.\n",
    "  \n",
    "The two problems with the current function definition can be:\n",
    "  1. when n=1, it will get into the while loop, because 1>0. Then n=n-1, which is 0. Then fac0 will equal to 0. So n-- should be after fac = n;\n",
    "  2. when n >= 0, n should be initialized to 1; otherwise n should be -1(Means error)\n",
    "  \n",
    "The first problem can be fixed by putting n-- before fac=n would return all the factorial as zero. Since when the while loop runs its last round, n=1 and n-- would give n=0, which makes the fianl value for factorial zero. So n-- should go after fac=n.\n",
    "For the second problem, after switching the sequence of n-- and fac=n, it makes no sense to set the initial value fac=n and then do the first round while loop as fac=facn=n*n. So the initial value of fac should be one.\n"
   ]
  }
 ],
 "metadata": {
  "kernelspec": {
   "display_name": "Python 3 (Anaconda)",
   "language": "python",
   "name": "anaconda3"
  },
  "language_info": {
   "codemirror_mode": {
    "name": "ipython",
    "version": 3
   },
   "file_extension": ".py",
   "mimetype": "text/x-python",
   "name": "python",
   "nbconvert_exporter": "python",
   "pygments_lexer": "ipython3",
   "version": "3.5.4"
  }
 },
 "nbformat": 4,
 "nbformat_minor": 0
}